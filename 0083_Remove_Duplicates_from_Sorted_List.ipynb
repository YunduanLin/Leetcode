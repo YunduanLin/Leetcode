{
 "cells": [
  {
   "cell_type": "code",
   "execution_count": 1,
   "metadata": {},
   "outputs": [],
   "source": [
    "class ListNode:\n",
    "    def __init__(self, val=0, next=None):\n",
    "        self.val = val\n",
    "        self.next = next"
   ]
  },
  {
   "cell_type": "code",
   "execution_count": 44,
   "metadata": {},
   "outputs": [],
   "source": [
    "class Solution:\n",
    "    \n",
    "    \n",
    "    def deleteDuplicates(self, head):\n",
    "        \n",
    "        if head:\n",
    "            r_head = head\n",
    "            v_cur = head.val\n",
    "            while r_head.next:\n",
    "                if v_cur == r_head.next.val:\n",
    "                    r_head.next = r_head.next.next\n",
    "                else:\n",
    "                    v_cur = r_head.next.val\n",
    "                    r_head = r_head.next\n",
    "                \n",
    "        return head"
   ]
  },
  {
   "cell_type": "code",
   "execution_count": 49,
   "metadata": {},
   "outputs": [],
   "source": [
    "def generate_LN(elements):\n",
    "    \n",
    "    if elements:\n",
    "        head = ListNode(elements[0])\n",
    "        r_head = head\n",
    "        for elem in elements[1:]:\n",
    "            r_head.next = ListNode(elem)\n",
    "            r_head = r_head.next\n",
    "    else:\n",
    "        head = None\n",
    "        \n",
    "    return head"
   ]
  },
  {
   "cell_type": "code",
   "execution_count": 50,
   "metadata": {},
   "outputs": [
    {
     "data": {
      "text/plain": [
       "(1, 3)"
      ]
     },
     "execution_count": 50,
     "metadata": {},
     "output_type": "execute_result"
    }
   ],
   "source": [
    "a = Solution()\n",
    "b = a.deleteDuplicates(generate_LN([1, 1, 3]))\n",
    "b.val,b.next.val"
   ]
  },
  {
   "cell_type": "code",
   "execution_count": 51,
   "metadata": {},
   "outputs": [
    {
     "data": {
      "text/plain": [
       "(1, 2, 3)"
      ]
     },
     "execution_count": 51,
     "metadata": {},
     "output_type": "execute_result"
    }
   ],
   "source": [
    "b = a.deleteDuplicates(generate_LN([1, 1, 2, 3, 3]))\n",
    "b.val,b.next.val,b.next.next.val"
   ]
  },
  {
   "cell_type": "code",
   "execution_count": 52,
   "metadata": {},
   "outputs": [
    {
     "data": {
      "text/plain": [
       "(1, 2, 3)"
      ]
     },
     "execution_count": 52,
     "metadata": {},
     "output_type": "execute_result"
    }
   ],
   "source": [
    "b = a.deleteDuplicates(generate_LN([1, 1, 1, 2, 3, 3]))\n",
    "b.val,b.next.val,b.next.next.val"
   ]
  },
  {
   "cell_type": "code",
   "execution_count": 53,
   "metadata": {},
   "outputs": [],
   "source": [
    "b = a.deleteDuplicates(generate_LN([]))\n",
    "b"
   ]
  }
 ],
 "metadata": {
  "kernelspec": {
   "display_name": "Python 3",
   "language": "python",
   "name": "python3"
  },
  "language_info": {
   "codemirror_mode": {
    "name": "ipython",
    "version": 3
   },
   "file_extension": ".py",
   "mimetype": "text/x-python",
   "name": "python",
   "nbconvert_exporter": "python",
   "pygments_lexer": "ipython3",
   "version": "3.7.6"
  }
 },
 "nbformat": 4,
 "nbformat_minor": 4
}
