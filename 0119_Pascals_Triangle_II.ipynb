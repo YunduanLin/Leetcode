{
 "cells": [
  {
   "cell_type": "code",
   "execution_count": 5,
   "metadata": {},
   "outputs": [],
   "source": [
    "class Solution:\n",
    "    def getRow(self, rowIndex):\n",
    "        if rowIndex == 0:\n",
    "            return [1]\n",
    "        else:\n",
    "            last_row = [1]\n",
    "            for num in range(rowIndex):\n",
    "                last_row = self.generate_row(last_row)\n",
    "        return last_row\n",
    "    \n",
    "    def generate_row(self, last_row):\n",
    "        l = [1]\n",
    "        for i in range(len(last_row)-1):\n",
    "            l.append(last_row[i] + last_row[i+1])\n",
    "        l.append(1)\n",
    "        return l"
   ]
  },
  {
   "cell_type": "code",
   "execution_count": 6,
   "metadata": {},
   "outputs": [
    {
     "data": {
      "text/plain": [
       "[1, 1]"
      ]
     },
     "execution_count": 6,
     "metadata": {},
     "output_type": "execute_result"
    }
   ],
   "source": [
    "a = Solution()\n",
    "a.getRow(1)"
   ]
  },
  {
   "cell_type": "code",
   "execution_count": 7,
   "metadata": {},
   "outputs": [
    {
     "data": {
      "text/plain": [
       "[1, 3, 3, 1]"
      ]
     },
     "execution_count": 7,
     "metadata": {},
     "output_type": "execute_result"
    }
   ],
   "source": [
    "a.getRow(3)"
   ]
  },
  {
   "cell_type": "code",
   "execution_count": 8,
   "metadata": {},
   "outputs": [
    {
     "data": {
      "text/plain": [
       "[1,\n",
       " 33,\n",
       " 528,\n",
       " 5456,\n",
       " 40920,\n",
       " 237336,\n",
       " 1107568,\n",
       " 4272048,\n",
       " 13884156,\n",
       " 38567100,\n",
       " 92561040,\n",
       " 193536720,\n",
       " 354817320,\n",
       " 573166440,\n",
       " 818809200,\n",
       " 1037158320,\n",
       " 1166803110,\n",
       " 1166803110,\n",
       " 1037158320,\n",
       " 818809200,\n",
       " 573166440,\n",
       " 354817320,\n",
       " 193536720,\n",
       " 92561040,\n",
       " 38567100,\n",
       " 13884156,\n",
       " 4272048,\n",
       " 1107568,\n",
       " 237336,\n",
       " 40920,\n",
       " 5456,\n",
       " 528,\n",
       " 33,\n",
       " 1]"
      ]
     },
     "execution_count": 8,
     "metadata": {},
     "output_type": "execute_result"
    }
   ],
   "source": [
    "a.getRow(33)"
   ]
  }
 ],
 "metadata": {
  "kernelspec": {
   "display_name": "Python 3",
   "language": "python",
   "name": "python3"
  },
  "language_info": {
   "codemirror_mode": {
    "name": "ipython",
    "version": 3
   },
   "file_extension": ".py",
   "mimetype": "text/x-python",
   "name": "python",
   "nbconvert_exporter": "python",
   "pygments_lexer": "ipython3",
   "version": "3.7.6"
  }
 },
 "nbformat": 4,
 "nbformat_minor": 4
}
