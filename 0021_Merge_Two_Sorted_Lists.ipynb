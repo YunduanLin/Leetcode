{
 "cells": [
  {
   "cell_type": "code",
   "execution_count": 19,
   "metadata": {},
   "outputs": [],
   "source": [
    "class ListNode:\n",
    "    def __init__(self, val=0, next=None):\n",
    "        self.val = val\n",
    "        self.next = next\n",
    "    def __str__(self):\n",
    "        s = ''\n",
    "        cur = self\n",
    "        while cur.next is not None:\n",
    "            s = s+str(cur.val)+'->'\n",
    "            cur = cur.next\n",
    "        s = s+str(cur.val)\n",
    "        return s"
   ]
  },
  {
   "cell_type": "code",
   "execution_count": 27,
   "metadata": {},
   "outputs": [],
   "source": [
    "class Solution:\n",
    "    def mergeTwoLists(self, l1, l2):\n",
    "        l = ListNode()\n",
    "        lc = l\n",
    "        while (l1 is not None) & (l2 is not None):\n",
    "            if l1.val<l2.val:\n",
    "                lc.next = ListNode(l1.val)\n",
    "                l1 = l1.next\n",
    "            else:\n",
    "                lc.next = ListNode(l2.val)\n",
    "                l2 = l2.next\n",
    "            lc = lc.next\n",
    "        if l1 is not None:\n",
    "            lc.next = l1\n",
    "        if l2 is not None:\n",
    "            lc.next = l2\n",
    "        return l.next"
   ]
  },
  {
   "cell_type": "code",
   "execution_count": 28,
   "metadata": {},
   "outputs": [
    {
     "name": "stdout",
     "output_type": "stream",
     "text": [
      "1->1->2->3->4->4\n"
     ]
    }
   ],
   "source": [
    "a = Solution()\n",
    "l1 = ListNode(1,ListNode(2,ListNode(4)))\n",
    "l2 = ListNode(1,ListNode(3,ListNode(4)))\n",
    "print(a.mergeTwoLists(l1,l2))"
   ]
  },
  {
   "cell_type": "code",
   "execution_count": 29,
   "metadata": {},
   "outputs": [
    {
     "name": "stdout",
     "output_type": "stream",
     "text": [
      "1->1->1->1->3->4\n"
     ]
    }
   ],
   "source": [
    "l1 = ListNode(1,ListNode(1,ListNode(1)))\n",
    "l2 = ListNode(1,ListNode(3,ListNode(4)))\n",
    "print(a.mergeTwoLists(l1,l2))"
   ]
  }
 ],
 "metadata": {
  "kernelspec": {
   "display_name": "Python 3",
   "language": "python",
   "name": "python3"
  },
  "language_info": {
   "codemirror_mode": {
    "name": "ipython",
    "version": 3
   },
   "file_extension": ".py",
   "mimetype": "text/x-python",
   "name": "python",
   "nbconvert_exporter": "python",
   "pygments_lexer": "ipython3",
   "version": "3.7.6"
  }
 },
 "nbformat": 4,
 "nbformat_minor": 4
}
