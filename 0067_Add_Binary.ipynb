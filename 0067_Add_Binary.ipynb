{
 "cells": [
  {
   "cell_type": "code",
   "execution_count": 1,
   "metadata": {},
   "outputs": [],
   "source": [
    "class Solution:\n",
    "    def addBinary(self, a, b):\n",
    "        \n",
    "        s_len_min, s_len_max = min(len(a), len(b)), max(len(a), len(b))\n",
    "        a, b = a[::-1], b[::-1]\n",
    "        s = ''\n",
    "        s_pos = 0\n",
    "        s_sum = 0\n",
    "        \n",
    "        while s_pos < s_len_min:\n",
    "            s_sum = int(a[s_pos]) + int(b[s_pos]) + s_sum\n",
    "            s = s + str(s_sum % 2)\n",
    "            s_sum = s_sum // 2\n",
    "            s_pos += 1\n",
    "        \n",
    "        s_remain = a[::] if len(a) > len(b) else b[::]\n",
    "        \n",
    "        while s_pos < s_len_max:\n",
    "            s_sum = int(s_remain[s_pos]) + s_sum\n",
    "            s = s + str(s_sum % 2)\n",
    "            s_sum = s_sum // 2\n",
    "            s_pos += 1\n",
    "        \n",
    "        s = s + str(s_sum) if s_sum > 0 else s\n",
    "        \n",
    "        return s[::-1]"
   ]
  },
  {
   "cell_type": "code",
   "execution_count": 2,
   "metadata": {},
   "outputs": [
    {
     "data": {
      "text/plain": [
       "'100'"
      ]
     },
     "execution_count": 2,
     "metadata": {},
     "output_type": "execute_result"
    }
   ],
   "source": [
    "a = Solution()\n",
    "a.addBinary('11','1')"
   ]
  },
  {
   "cell_type": "code",
   "execution_count": 3,
   "metadata": {},
   "outputs": [
    {
     "data": {
      "text/plain": [
       "'10101'"
      ]
     },
     "execution_count": 3,
     "metadata": {},
     "output_type": "execute_result"
    }
   ],
   "source": [
    "a.addBinary('1010','1011')"
   ]
  },
  {
   "cell_type": "code",
   "execution_count": 4,
   "metadata": {},
   "outputs": [
    {
     "data": {
      "text/plain": [
       "'0'"
      ]
     },
     "execution_count": 4,
     "metadata": {},
     "output_type": "execute_result"
    }
   ],
   "source": [
    "a.addBinary('0','0')"
   ]
  },
  {
   "cell_type": "code",
   "execution_count": 5,
   "metadata": {},
   "outputs": [
    {
     "data": {
      "text/plain": [
       "'10'"
      ]
     },
     "execution_count": 5,
     "metadata": {},
     "output_type": "execute_result"
    }
   ],
   "source": [
    "a.addBinary('1','1')"
   ]
  },
  {
   "cell_type": "code",
   "execution_count": null,
   "metadata": {},
   "outputs": [],
   "source": []
  }
 ],
 "metadata": {
  "kernelspec": {
   "display_name": "Python 3",
   "language": "python",
   "name": "python3"
  },
  "language_info": {
   "codemirror_mode": {
    "name": "ipython",
    "version": 3
   },
   "file_extension": ".py",
   "mimetype": "text/x-python",
   "name": "python",
   "nbconvert_exporter": "python",
   "pygments_lexer": "ipython3",
   "version": "3.7.6"
  }
 },
 "nbformat": 4,
 "nbformat_minor": 4
}
