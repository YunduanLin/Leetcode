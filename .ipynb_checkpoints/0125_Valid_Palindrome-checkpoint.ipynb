{
 "cells": [
  {
   "cell_type": "code",
   "execution_count": 11,
   "metadata": {},
   "outputs": [],
   "source": [
    "class Solution:\n",
    "    \n",
    "    def isPalindrome(self, s):\n",
    "        s = s.lower()\n",
    "        l,r = 0, len(s) - 1\n",
    "        print(l,r)\n",
    "        while l<r:\n",
    "            if (s[l].isalnum()) & (s[r].isalnum()):\n",
    "                if s[l] != s[r]:\n",
    "                    print(l,r)\n",
    "                    return False\n",
    "                else:\n",
    "                    l += 1\n",
    "                    r -= 1\n",
    "            else:\n",
    "                if ~s[l].isalnum():\n",
    "                    l += 1\n",
    "                if ~s[r].isalnum():\n",
    "                    r -= 1\n",
    "        \n",
    "        return True\n",
    "            "
   ]
  },
  {
   "cell_type": "code",
   "execution_count": 12,
   "metadata": {},
   "outputs": [
    {
     "name": "stdout",
     "output_type": "stream",
     "text": [
      "2 27\n"
     ]
    },
    {
     "data": {
      "text/plain": [
       "False"
      ]
     },
     "execution_count": 12,
     "metadata": {},
     "output_type": "execute_result"
    }
   ],
   "source": [
    "a = Solution()\n",
    "a.isPalindrome('A man, a plan, a canal: Panama')"
   ]
  }
 ],
 "metadata": {
  "kernelspec": {
   "display_name": "Python 3",
   "language": "python",
   "name": "python3"
  },
  "language_info": {
   "codemirror_mode": {
    "name": "ipython",
    "version": 3
   },
   "file_extension": ".py",
   "mimetype": "text/x-python",
   "name": "python",
   "nbconvert_exporter": "python",
   "pygments_lexer": "ipython3",
   "version": "3.7.6"
  }
 },
 "nbformat": 4,
 "nbformat_minor": 4
}
