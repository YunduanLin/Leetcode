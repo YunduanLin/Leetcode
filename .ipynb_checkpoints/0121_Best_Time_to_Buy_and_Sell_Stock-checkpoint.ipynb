{
 "cells": [
  {
   "cell_type": "code",
   "execution_count": null,
   "metadata": {},
   "outputs": [],
   "source": [
    "class Solution:\n",
    "    def maxProfit(self, prices):\n",
    "        if not prices:\n",
    "            return 0\n",
    "        price_min = prices[0]\n",
    "        profit = 0\n",
    "        for price in prices:\n",
    "            if price < price_min:\n",
    "                price_min = price\n",
    "            elif price - price_min > profit:\n",
    "                profit = price - price_min\n",
    "\n",
    "        return profit\n",
    "                "
   ]
  },
  {
   "cell_type": "code",
   "execution_count": null,
   "metadata": {},
   "outputs": [],
   "source": [
    "a = Solution()\n",
    "a.maxProfit([7,1,5,3,6,4])"
   ]
  }
 ],
 "metadata": {
  "kernelspec": {
   "display_name": "Python 3",
   "language": "python",
   "name": "python3"
  },
  "language_info": {
   "codemirror_mode": {
    "name": "ipython",
    "version": 3
   },
   "file_extension": ".py",
   "mimetype": "text/x-python",
   "name": "python",
   "nbconvert_exporter": "python",
   "pygments_lexer": "ipython3",
   "version": "3.7.6"
  }
 },
 "nbformat": 4,
 "nbformat_minor": 4
}
