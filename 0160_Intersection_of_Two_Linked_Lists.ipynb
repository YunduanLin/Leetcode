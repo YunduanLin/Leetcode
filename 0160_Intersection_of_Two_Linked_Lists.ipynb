{
 "cells": [
  {
   "cell_type": "code",
   "execution_count": 1,
   "metadata": {},
   "outputs": [],
   "source": [
    "class ListNode:\n",
    "    def __init__(self, x):\n",
    "        self.val = x\n",
    "        self.next = None"
   ]
  },
  {
   "cell_type": "code",
   "execution_count": 21,
   "metadata": {},
   "outputs": [],
   "source": [
    "class Solution:\n",
    "    def getIntersectionNode(self, headA, headB):\n",
    "        h_A, h_B = headA, headB\n",
    "        while h_A != h_B:\n",
    "            h_A = h_A.next if h_A else headB\n",
    "            h_B = h_B.next if h_B else headA\n",
    "        return h_A"
   ]
  },
  {
   "cell_type": "code",
   "execution_count": 22,
   "metadata": {},
   "outputs": [],
   "source": [
    "a = Solution()\n",
    "int_head = ListNode(1)\n",
    "int_head.next = ListNode(2)\n",
    "headA = ListNode(3)\n",
    "headA1 = ListNode(5)\n",
    "headB = ListNode(4)\n",
    "headA.next = headA1"
   ]
  },
  {
   "cell_type": "code",
   "execution_count": 24,
   "metadata": {},
   "outputs": [],
   "source": [
    "N = a.getIntersectionNode(headA, headB)"
   ]
  }
 ],
 "metadata": {
  "kernelspec": {
   "display_name": "Python 3",
   "language": "python",
   "name": "python3"
  },
  "language_info": {
   "codemirror_mode": {
    "name": "ipython",
    "version": 3
   },
   "file_extension": ".py",
   "mimetype": "text/x-python",
   "name": "python",
   "nbconvert_exporter": "python",
   "pygments_lexer": "ipython3",
   "version": "3.7.6"
  }
 },
 "nbformat": 4,
 "nbformat_minor": 4
}
